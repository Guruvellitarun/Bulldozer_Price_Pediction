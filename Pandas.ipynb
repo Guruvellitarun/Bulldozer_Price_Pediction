{
 "cells": [
  {
   "cell_type": "code",
   "execution_count": 1,
   "id": "d8d0e84e",
   "metadata": {},
   "outputs": [],
   "source": [
    "import numpy as np\n",
    "import pandas as pd"
   ]
  },
  {
   "cell_type": "code",
   "execution_count": 2,
   "id": "8dc0a68a",
   "metadata": {},
   "outputs": [
    {
     "name": "stdout",
     "output_type": "stream",
     "text": [
      "      Name  Age  Dep  Roll\n",
      "0    Tarun   20  MIS    22\n",
      "1     Mahi   21  MIS    32\n",
      "2   Likhil   20  MIA    43\n",
      "3   Guptha   19  MIS    23\n",
      "4    Rohit   18  MIA    13\n",
      "5  Karthik   22  BEC    43\n"
     ]
    }
   ],
   "source": [
    "a = {\n",
    "    \"Name\":[\"Tarun\",\"Mahi\",\"Likhil\",\"Guptha\",\"Rohit\",\"Karthik\"],\n",
    "    \"Age\":[20,21,20,19,18,22],\n",
    "    \"Dep\":[\"MIS\",\"MIS\",\"MIA\",\"MIS\",\"MIA\",\"BEC\"],\n",
    "    \"Roll\":[22,32,43,23,13,43]\n",
    "}\n",
    "\n",
    "data_frame = pd.DataFrame(a)\n",
    "print(data_frame)"
   ]
  },
  {
   "cell_type": "code",
   "execution_count": 34,
   "id": "0674693a",
   "metadata": {},
   "outputs": [
    {
     "name": "stdout",
     "output_type": "stream",
     "text": [
      "['Tarun', 'Mahi', 'Likhil', 'Guptha', 'Rohit', 'Karthik']\n"
     ]
    }
   ],
   "source": [
    "print(a[\"Name\"])"
   ]
  },
  {
   "cell_type": "code",
   "execution_count": 3,
   "id": "2b7a9bab",
   "metadata": {},
   "outputs": [],
   "source": [
    "data_frame.to_csv(\"Friends_Data.csv\",index=False)"
   ]
  },
  {
   "cell_type": "code",
   "execution_count": 4,
   "id": "c411c251",
   "metadata": {},
   "outputs": [
    {
     "name": "stdout",
     "output_type": "stream",
     "text": [
      "     Name  Age  Dep  Roll\n",
      "0   Tarun   20  MIS    22\n",
      "1    Mahi   21  MIS    32\n",
      "2  Likhil   20  MIA    43\n",
      "3  Guptha   19  MIS    23\n",
      "4   Rohit   18  MIA    13\n"
     ]
    }
   ],
   "source": [
    "print(data_frame.head())"
   ]
  },
  {
   "cell_type": "code",
   "execution_count": 5,
   "id": "f56bf91e",
   "metadata": {},
   "outputs": [
    {
     "name": "stdout",
     "output_type": "stream",
     "text": [
      "      Name  Age  Dep  Roll\n",
      "1     Mahi   21  MIS    32\n",
      "2   Likhil   20  MIA    43\n",
      "3   Guptha   19  MIS    23\n",
      "4    Rohit   18  MIA    13\n",
      "5  Karthik   22  BEC    43\n"
     ]
    }
   ],
   "source": [
    "print(data_frame.tail())"
   ]
  },
  {
   "cell_type": "code",
   "execution_count": 6,
   "id": "e66e2e9d",
   "metadata": {},
   "outputs": [
    {
     "name": "stdout",
     "output_type": "stream",
     "text": [
      "             Age       Roll\n",
      "count   6.000000   6.000000\n",
      "mean   20.000000  29.333333\n",
      "std     1.414214  12.176480\n",
      "min    18.000000  13.000000\n",
      "25%    19.250000  22.250000\n",
      "50%    20.000000  27.500000\n",
      "75%    20.750000  40.250000\n",
      "max    22.000000  43.000000\n"
     ]
    }
   ],
   "source": [
    "print(data_frame.describe())"
   ]
  },
  {
   "cell_type": "code",
   "execution_count": 7,
   "id": "0c49d925",
   "metadata": {},
   "outputs": [],
   "source": [
    "data1 = pd.read_csv(\"Friends_Data.csv\")"
   ]
  },
  {
   "cell_type": "code",
   "execution_count": 8,
   "id": "a1c2ee3c",
   "metadata": {},
   "outputs": [
    {
     "name": "stdout",
     "output_type": "stream",
     "text": [
      "      Name  Age  Dep  Roll\n",
      "0    Tarun   20  MIS    22\n",
      "1     Mahi   21  MIS    32\n",
      "2   Likhil   20  MIA    43\n",
      "3   Guptha   19  MIS    23\n",
      "4    Rohit   18  MIA    13\n",
      "5  Karthik   22  BEC    43\n"
     ]
    }
   ],
   "source": [
    "print(data1)"
   ]
  },
  {
   "cell_type": "code",
   "execution_count": 9,
   "id": "9017be8d",
   "metadata": {},
   "outputs": [],
   "source": [
    "data1.index = [1,2,3,4,5,6]"
   ]
  },
  {
   "cell_type": "code",
   "execution_count": 10,
   "id": "b461f8e8",
   "metadata": {},
   "outputs": [
    {
     "name": "stdout",
     "output_type": "stream",
     "text": [
      "      Name  Age  Dep  Roll\n",
      "1    Tarun   20  MIS    22\n",
      "2     Mahi   21  MIS    32\n",
      "3   Likhil   20  MIA    43\n",
      "4   Guptha   19  MIS    23\n",
      "5    Rohit   18  MIA    13\n",
      "6  Karthik   22  BEC    43\n"
     ]
    }
   ],
   "source": [
    "print(data1)"
   ]
  },
  {
   "cell_type": "code",
   "execution_count": 11,
   "id": "2a9bfb45",
   "metadata": {},
   "outputs": [],
   "source": [
    "data2 = pd.DataFrame(np.random.rand(5,4))\n",
    "data2.index = [1,2,3,4,5]"
   ]
  },
  {
   "cell_type": "code",
   "execution_count": 12,
   "id": "10c99585",
   "metadata": {},
   "outputs": [
    {
     "name": "stdout",
     "output_type": "stream",
     "text": [
      "          0         1         2         3\n",
      "1  0.974851  0.667705  0.732347  0.622953\n",
      "2  0.461936  0.107970  0.878717  0.585966\n",
      "3  0.410823  0.129110  0.619056  0.943020\n",
      "4  0.725722  0.472756  0.804059  0.536935\n",
      "5  0.001083  0.501163  0.903174  0.379495\n"
     ]
    }
   ],
   "source": [
    "print(data2)"
   ]
  },
  {
   "cell_type": "code",
   "execution_count": 13,
   "id": "5676a9e9",
   "metadata": {},
   "outputs": [
    {
     "name": "stdout",
     "output_type": "stream",
     "text": [
      "[[0.97485145 0.66770499 0.73234696 0.62295329]\n",
      " [0.46193612 0.10797044 0.87871662 0.58596609]\n",
      " [0.41082312 0.12910967 0.61905583 0.94302044]\n",
      " [0.72572152 0.4727565  0.80405854 0.5369347 ]\n",
      " [0.00108336 0.50116256 0.90317392 0.37949521]]\n",
      "(5, 4)\n"
     ]
    }
   ],
   "source": [
    "data_array = data2.to_numpy()\n",
    "print(data_array)\n",
    "print(data_array.shape)"
   ]
  },
  {
   "cell_type": "code",
   "execution_count": 14,
   "id": "e4969d7d",
   "metadata": {},
   "outputs": [
    {
     "name": "stdout",
     "output_type": "stream",
     "text": [
      "[[0.97485145 0.46193612 0.41082312 0.72572152 0.00108336]\n",
      " [0.66770499 0.10797044 0.12910967 0.4727565  0.50116256]\n",
      " [0.73234696 0.87871662 0.61905583 0.80405854 0.90317392]\n",
      " [0.62295329 0.58596609 0.94302044 0.5369347  0.37949521]]\n"
     ]
    }
   ],
   "source": [
    "print(data_array.T)"
   ]
  },
  {
   "cell_type": "code",
   "execution_count": 15,
   "id": "b4a46615",
   "metadata": {},
   "outputs": [
    {
     "name": "stdout",
     "output_type": "stream",
     "text": [
      "          3         2         1         0\n",
      "1  0.622953  0.732347  0.667705  0.974851\n",
      "2  0.585966  0.878717  0.107970  0.461936\n",
      "3  0.943020  0.619056  0.129110  0.410823\n",
      "4  0.536935  0.804059  0.472756  0.725722\n",
      "5  0.379495  0.903174  0.501163  0.001083\n"
     ]
    }
   ],
   "source": [
    "print(data2.sort_index(axis=1,ascending = False))"
   ]
  },
  {
   "cell_type": "code",
   "execution_count": 16,
   "id": "9a0cfb9a",
   "metadata": {},
   "outputs": [
    {
     "name": "stdout",
     "output_type": "stream",
     "text": [
      "      Name  Age  Dep  Roll\n",
      "1    Tarun   20  MIS    22\n",
      "2     Mahi   21  MIS    32\n",
      "3   Likhil   20  MIA    43\n",
      "4   Guptha   19  MIS    23\n",
      "5    Rohit   18  MIA    13\n",
      "6  Karthik   22  BEC    43\n"
     ]
    }
   ],
   "source": [
    "print(data1)"
   ]
  },
  {
   "cell_type": "code",
   "execution_count": 17,
   "id": "6bf152d4",
   "metadata": {},
   "outputs": [
    {
     "name": "stdout",
     "output_type": "stream",
     "text": [
      "   Roll     Name  Dep  Age\n",
      "1    22    Tarun  MIS   20\n",
      "2    32     Mahi  MIS   21\n",
      "3    43   Likhil  MIA   20\n",
      "4    23   Guptha  MIS   19\n",
      "5    13    Rohit  MIA   18\n",
      "6    43  Karthik  BEC   22\n"
     ]
    }
   ],
   "source": [
    "print(data1.sort_index(axis=1,ascending = False))"
   ]
  },
  {
   "cell_type": "code",
   "execution_count": 18,
   "id": "85074427",
   "metadata": {},
   "outputs": [
    {
     "name": "stdout",
     "output_type": "stream",
     "text": [
      "      Name  Age  Dep  Roll\n",
      "5    Rohit   18  MIA    13\n",
      "1    Tarun   20  MIS    22\n",
      "4   Guptha   19  MIS    23\n",
      "2     Mahi   21  MIS    32\n",
      "3   Likhil   20  MIA    43\n",
      "6  Karthik   22  BEC    43\n"
     ]
    }
   ],
   "source": [
    "print(data1.sort_values(by=['Roll']))"
   ]
  },
  {
   "cell_type": "code",
   "execution_count": 19,
   "id": "5769c06b",
   "metadata": {},
   "outputs": [
    {
     "name": "stdout",
     "output_type": "stream",
     "text": [
      "      Name  Age  Dep  Roll\n",
      "5    Rohit   18  MIA    13\n",
      "4   Guptha   19  MIS    23\n",
      "1    Tarun   20  MIS    22\n",
      "3   Likhil   20  MIA    43\n",
      "2     Mahi   21  MIS    32\n",
      "6  Karthik   22  BEC    43\n"
     ]
    }
   ],
   "source": [
    "print(data1.sort_values(by=['Age','Roll']))"
   ]
  },
  {
   "cell_type": "code",
   "execution_count": 20,
   "id": "a389b850",
   "metadata": {},
   "outputs": [
    {
     "name": "stdout",
     "output_type": "stream",
     "text": [
      "      Name  Age  Dep  Roll\n",
      "1    Tarun   20  MIS    22\n",
      "2     Mahi   21  MIS    32\n",
      "3   Likhil   20  MIA    43\n",
      "4   Guptha   19  MIS    23\n",
      "5    Rohit   18  MIA    13\n",
      "6  Karthik   22  BEC    43\n"
     ]
    }
   ],
   "source": [
    "print(data1)"
   ]
  },
  {
   "cell_type": "code",
   "execution_count": 21,
   "id": "c4c1f09b",
   "metadata": {},
   "outputs": [
    {
     "name": "stdout",
     "output_type": "stream",
     "text": [
      "      Name  Age  Dep  Roll\n",
      "1    Tarun   20  MIS    22\n",
      "2     Mahi   21  MIS    32\n",
      "3   Likhil   20  MIA    43\n",
      "4   Guptha   19  MIS    23\n",
      "5    Rohit   18  MIA    13\n",
      "6  Karthik   22  BEC    43\n"
     ]
    }
   ],
   "source": [
    "print(data1)"
   ]
  },
  {
   "cell_type": "code",
   "execution_count": 22,
   "id": "805e4d48",
   "metadata": {},
   "outputs": [],
   "source": [
    "hello = np.array([1,2,3,4,33,45])\n",
    "data1['Hello'] = hello"
   ]
  },
  {
   "cell_type": "code",
   "execution_count": 23,
   "id": "c26e4370",
   "metadata": {},
   "outputs": [
    {
     "name": "stdout",
     "output_type": "stream",
     "text": [
      "      Name  Age  Dep  Roll  Hello\n",
      "1    Tarun   20  MIS    22      1\n",
      "2     Mahi   21  MIS    32      2\n",
      "3   Likhil   20  MIA    43      3\n",
      "4   Guptha   19  MIS    23      4\n",
      "5    Rohit   18  MIA    13     33\n",
      "6  Karthik   22  BEC    43     45\n"
     ]
    }
   ],
   "source": [
    "print(data1)"
   ]
  },
  {
   "cell_type": "code",
   "execution_count": 24,
   "id": "8852c224",
   "metadata": {},
   "outputs": [],
   "source": [
    "new_row = {\n",
    "    \"Name\":[\"Vijay\",\"Lakshmi\"],\n",
    "    \"Age\":[22,23],\n",
    "    \"Roll\":[222,232],\n",
    "    \"Dep\":[\"MIS\",\"MIA\"],\n",
    "}"
   ]
  },
  {
   "cell_type": "code",
   "execution_count": 25,
   "id": "72e15e9b",
   "metadata": {},
   "outputs": [
    {
     "ename": "ValueError",
     "evalue": "Must have equal len keys and value when setting with an iterable",
     "output_type": "error",
     "traceback": [
      "\u001b[0;31m---------------------------------------------------------------------------\u001b[0m",
      "\u001b[0;31mValueError\u001b[0m                                Traceback (most recent call last)",
      "Cell \u001b[0;32mIn[25], line 3\u001b[0m\n\u001b[1;32m      1\u001b[0m \u001b[38;5;66;03m# data1 = data1.append(new_row,ignore_index=True)\u001b[39;00m\n\u001b[0;32m----> 3\u001b[0m data1\u001b[38;5;241m.\u001b[39mloc[\u001b[38;5;241m6\u001b[39m] \u001b[38;5;241m=\u001b[39m [\u001b[38;5;241m1\u001b[39m,\u001b[38;5;241m2\u001b[39m,\u001b[38;5;241m3\u001b[39m,\u001b[38;5;241m4\u001b[39m,\u001b[38;5;241m5\u001b[39m,\u001b[38;5;241m6\u001b[39m]\n",
      "File \u001b[0;32m/usr/local/anaconda3/lib/python3.11/site-packages/pandas/core/indexing.py:849\u001b[0m, in \u001b[0;36m_LocationIndexer.__setitem__\u001b[0;34m(self, key, value)\u001b[0m\n\u001b[1;32m    846\u001b[0m \u001b[38;5;28mself\u001b[39m\u001b[38;5;241m.\u001b[39m_has_valid_setitem_indexer(key)\n\u001b[1;32m    848\u001b[0m iloc \u001b[38;5;241m=\u001b[39m \u001b[38;5;28mself\u001b[39m \u001b[38;5;28;01mif\u001b[39;00m \u001b[38;5;28mself\u001b[39m\u001b[38;5;241m.\u001b[39mname \u001b[38;5;241m==\u001b[39m \u001b[38;5;124m\"\u001b[39m\u001b[38;5;124miloc\u001b[39m\u001b[38;5;124m\"\u001b[39m \u001b[38;5;28;01melse\u001b[39;00m \u001b[38;5;28mself\u001b[39m\u001b[38;5;241m.\u001b[39mobj\u001b[38;5;241m.\u001b[39miloc\n\u001b[0;32m--> 849\u001b[0m iloc\u001b[38;5;241m.\u001b[39m_setitem_with_indexer(indexer, value, \u001b[38;5;28mself\u001b[39m\u001b[38;5;241m.\u001b[39mname)\n",
      "File \u001b[0;32m/usr/local/anaconda3/lib/python3.11/site-packages/pandas/core/indexing.py:1835\u001b[0m, in \u001b[0;36m_iLocIndexer._setitem_with_indexer\u001b[0;34m(self, indexer, value, name)\u001b[0m\n\u001b[1;32m   1832\u001b[0m \u001b[38;5;66;03m# align and set the values\u001b[39;00m\n\u001b[1;32m   1833\u001b[0m \u001b[38;5;28;01mif\u001b[39;00m take_split_path:\n\u001b[1;32m   1834\u001b[0m     \u001b[38;5;66;03m# We have to operate column-wise\u001b[39;00m\n\u001b[0;32m-> 1835\u001b[0m     \u001b[38;5;28mself\u001b[39m\u001b[38;5;241m.\u001b[39m_setitem_with_indexer_split_path(indexer, value, name)\n\u001b[1;32m   1836\u001b[0m \u001b[38;5;28;01melse\u001b[39;00m:\n\u001b[1;32m   1837\u001b[0m     \u001b[38;5;28mself\u001b[39m\u001b[38;5;241m.\u001b[39m_setitem_single_block(indexer, value, name)\n",
      "File \u001b[0;32m/usr/local/anaconda3/lib/python3.11/site-packages/pandas/core/indexing.py:1920\u001b[0m, in \u001b[0;36m_iLocIndexer._setitem_with_indexer_split_path\u001b[0;34m(self, indexer, value, name)\u001b[0m\n\u001b[1;32m   1917\u001b[0m         \u001b[38;5;28mself\u001b[39m\u001b[38;5;241m.\u001b[39m_setitem_single_column(ilocs[\u001b[38;5;241m0\u001b[39m], value, pi)\n\u001b[1;32m   1919\u001b[0m     \u001b[38;5;28;01melse\u001b[39;00m:\n\u001b[0;32m-> 1920\u001b[0m         \u001b[38;5;28;01mraise\u001b[39;00m \u001b[38;5;167;01mValueError\u001b[39;00m(\n\u001b[1;32m   1921\u001b[0m             \u001b[38;5;124m\"\u001b[39m\u001b[38;5;124mMust have equal len keys and value \u001b[39m\u001b[38;5;124m\"\u001b[39m\n\u001b[1;32m   1922\u001b[0m             \u001b[38;5;124m\"\u001b[39m\u001b[38;5;124mwhen setting with an iterable\u001b[39m\u001b[38;5;124m\"\u001b[39m\n\u001b[1;32m   1923\u001b[0m         )\n\u001b[1;32m   1925\u001b[0m \u001b[38;5;28;01melse\u001b[39;00m:\n\u001b[1;32m   1926\u001b[0m     \u001b[38;5;66;03m# scalar value\u001b[39;00m\n\u001b[1;32m   1927\u001b[0m     \u001b[38;5;28;01mfor\u001b[39;00m loc \u001b[38;5;129;01min\u001b[39;00m ilocs:\n",
      "\u001b[0;31mValueError\u001b[0m: Must have equal len keys and value when setting with an iterable"
     ]
    }
   ],
   "source": [
    "# data1 = data1.append(new_row,ignore_index=True)\n",
    "\n",
    "data1.loc[6] = [1,2,3,4,5,6]"
   ]
  },
  {
   "cell_type": "code",
   "execution_count": 26,
   "id": "5c60071e",
   "metadata": {},
   "outputs": [
    {
     "ename": "KeyError",
     "evalue": "\"['New Dict Col'] not found in axis\"",
     "output_type": "error",
     "traceback": [
      "\u001b[0;31m---------------------------------------------------------------------------\u001b[0m",
      "\u001b[0;31mKeyError\u001b[0m                                  Traceback (most recent call last)",
      "Cell \u001b[0;32mIn[26], line 1\u001b[0m\n\u001b[0;32m----> 1\u001b[0m data1 \u001b[38;5;241m=\u001b[39m data1\u001b[38;5;241m.\u001b[39mdrop(\u001b[38;5;124m\"\u001b[39m\u001b[38;5;124mNew Dict Col\u001b[39m\u001b[38;5;124m\"\u001b[39m,axis \u001b[38;5;241m=\u001b[39m \u001b[38;5;241m1\u001b[39m)\n",
      "File \u001b[0;32m/usr/local/anaconda3/lib/python3.11/site-packages/pandas/core/frame.py:5258\u001b[0m, in \u001b[0;36mDataFrame.drop\u001b[0;34m(self, labels, axis, index, columns, level, inplace, errors)\u001b[0m\n\u001b[1;32m   5110\u001b[0m \u001b[38;5;28;01mdef\u001b[39;00m \u001b[38;5;21mdrop\u001b[39m(\n\u001b[1;32m   5111\u001b[0m     \u001b[38;5;28mself\u001b[39m,\n\u001b[1;32m   5112\u001b[0m     labels: IndexLabel \u001b[38;5;241m=\u001b[39m \u001b[38;5;28;01mNone\u001b[39;00m,\n\u001b[0;32m   (...)\u001b[0m\n\u001b[1;32m   5119\u001b[0m     errors: IgnoreRaise \u001b[38;5;241m=\u001b[39m \u001b[38;5;124m\"\u001b[39m\u001b[38;5;124mraise\u001b[39m\u001b[38;5;124m\"\u001b[39m,\n\u001b[1;32m   5120\u001b[0m ) \u001b[38;5;241m-\u001b[39m\u001b[38;5;241m>\u001b[39m DataFrame \u001b[38;5;241m|\u001b[39m \u001b[38;5;28;01mNone\u001b[39;00m:\n\u001b[1;32m   5121\u001b[0m \u001b[38;5;250m    \u001b[39m\u001b[38;5;124;03m\"\"\"\u001b[39;00m\n\u001b[1;32m   5122\u001b[0m \u001b[38;5;124;03m    Drop specified labels from rows or columns.\u001b[39;00m\n\u001b[1;32m   5123\u001b[0m \n\u001b[0;32m   (...)\u001b[0m\n\u001b[1;32m   5256\u001b[0m \u001b[38;5;124;03m            weight  1.0     0.8\u001b[39;00m\n\u001b[1;32m   5257\u001b[0m \u001b[38;5;124;03m    \"\"\"\u001b[39;00m\n\u001b[0;32m-> 5258\u001b[0m     \u001b[38;5;28;01mreturn\u001b[39;00m \u001b[38;5;28msuper\u001b[39m()\u001b[38;5;241m.\u001b[39mdrop(\n\u001b[1;32m   5259\u001b[0m         labels\u001b[38;5;241m=\u001b[39mlabels,\n\u001b[1;32m   5260\u001b[0m         axis\u001b[38;5;241m=\u001b[39maxis,\n\u001b[1;32m   5261\u001b[0m         index\u001b[38;5;241m=\u001b[39mindex,\n\u001b[1;32m   5262\u001b[0m         columns\u001b[38;5;241m=\u001b[39mcolumns,\n\u001b[1;32m   5263\u001b[0m         level\u001b[38;5;241m=\u001b[39mlevel,\n\u001b[1;32m   5264\u001b[0m         inplace\u001b[38;5;241m=\u001b[39minplace,\n\u001b[1;32m   5265\u001b[0m         errors\u001b[38;5;241m=\u001b[39merrors,\n\u001b[1;32m   5266\u001b[0m     )\n",
      "File \u001b[0;32m/usr/local/anaconda3/lib/python3.11/site-packages/pandas/core/generic.py:4549\u001b[0m, in \u001b[0;36mNDFrame.drop\u001b[0;34m(self, labels, axis, index, columns, level, inplace, errors)\u001b[0m\n\u001b[1;32m   4547\u001b[0m \u001b[38;5;28;01mfor\u001b[39;00m axis, labels \u001b[38;5;129;01min\u001b[39;00m axes\u001b[38;5;241m.\u001b[39mitems():\n\u001b[1;32m   4548\u001b[0m     \u001b[38;5;28;01mif\u001b[39;00m labels \u001b[38;5;129;01mis\u001b[39;00m \u001b[38;5;129;01mnot\u001b[39;00m \u001b[38;5;28;01mNone\u001b[39;00m:\n\u001b[0;32m-> 4549\u001b[0m         obj \u001b[38;5;241m=\u001b[39m obj\u001b[38;5;241m.\u001b[39m_drop_axis(labels, axis, level\u001b[38;5;241m=\u001b[39mlevel, errors\u001b[38;5;241m=\u001b[39merrors)\n\u001b[1;32m   4551\u001b[0m \u001b[38;5;28;01mif\u001b[39;00m inplace:\n\u001b[1;32m   4552\u001b[0m     \u001b[38;5;28mself\u001b[39m\u001b[38;5;241m.\u001b[39m_update_inplace(obj)\n",
      "File \u001b[0;32m/usr/local/anaconda3/lib/python3.11/site-packages/pandas/core/generic.py:4591\u001b[0m, in \u001b[0;36mNDFrame._drop_axis\u001b[0;34m(self, labels, axis, level, errors, only_slice)\u001b[0m\n\u001b[1;32m   4589\u001b[0m         new_axis \u001b[38;5;241m=\u001b[39m axis\u001b[38;5;241m.\u001b[39mdrop(labels, level\u001b[38;5;241m=\u001b[39mlevel, errors\u001b[38;5;241m=\u001b[39merrors)\n\u001b[1;32m   4590\u001b[0m     \u001b[38;5;28;01melse\u001b[39;00m:\n\u001b[0;32m-> 4591\u001b[0m         new_axis \u001b[38;5;241m=\u001b[39m axis\u001b[38;5;241m.\u001b[39mdrop(labels, errors\u001b[38;5;241m=\u001b[39merrors)\n\u001b[1;32m   4592\u001b[0m     indexer \u001b[38;5;241m=\u001b[39m axis\u001b[38;5;241m.\u001b[39mget_indexer(new_axis)\n\u001b[1;32m   4594\u001b[0m \u001b[38;5;66;03m# Case for non-unique axis\u001b[39;00m\n\u001b[1;32m   4595\u001b[0m \u001b[38;5;28;01melse\u001b[39;00m:\n",
      "File \u001b[0;32m/usr/local/anaconda3/lib/python3.11/site-packages/pandas/core/indexes/base.py:6699\u001b[0m, in \u001b[0;36mIndex.drop\u001b[0;34m(self, labels, errors)\u001b[0m\n\u001b[1;32m   6697\u001b[0m \u001b[38;5;28;01mif\u001b[39;00m mask\u001b[38;5;241m.\u001b[39many():\n\u001b[1;32m   6698\u001b[0m     \u001b[38;5;28;01mif\u001b[39;00m errors \u001b[38;5;241m!=\u001b[39m \u001b[38;5;124m\"\u001b[39m\u001b[38;5;124mignore\u001b[39m\u001b[38;5;124m\"\u001b[39m:\n\u001b[0;32m-> 6699\u001b[0m         \u001b[38;5;28;01mraise\u001b[39;00m \u001b[38;5;167;01mKeyError\u001b[39;00m(\u001b[38;5;124mf\u001b[39m\u001b[38;5;124m\"\u001b[39m\u001b[38;5;132;01m{\u001b[39;00m\u001b[38;5;28mlist\u001b[39m(labels[mask])\u001b[38;5;132;01m}\u001b[39;00m\u001b[38;5;124m not found in axis\u001b[39m\u001b[38;5;124m\"\u001b[39m)\n\u001b[1;32m   6700\u001b[0m     indexer \u001b[38;5;241m=\u001b[39m indexer[\u001b[38;5;241m~\u001b[39mmask]\n\u001b[1;32m   6701\u001b[0m \u001b[38;5;28;01mreturn\u001b[39;00m \u001b[38;5;28mself\u001b[39m\u001b[38;5;241m.\u001b[39mdelete(indexer)\n",
      "\u001b[0;31mKeyError\u001b[0m: \"['New Dict Col'] not found in axis\""
     ]
    }
   ],
   "source": [
    "data1 = data1.drop(\"New Dict Col\",axis = 1)"
   ]
  },
  {
   "cell_type": "code",
   "execution_count": null,
   "id": "c963a715",
   "metadata": {},
   "outputs": [],
   "source": [
    "data1 = data1.drop(\"Hello\",axis=1)"
   ]
  },
  {
   "cell_type": "code",
   "execution_count": null,
   "id": "7397d837",
   "metadata": {},
   "outputs": [],
   "source": [
    "print(data1)"
   ]
  },
  {
   "cell_type": "code",
   "execution_count": null,
   "id": "42547887",
   "metadata": {},
   "outputs": [],
   "source": [
    "data1.loc[:,[\"New\"]] = [11,22,33,44,55,66]"
   ]
  },
  {
   "cell_type": "code",
   "execution_count": 27,
   "id": "060c2a07",
   "metadata": {},
   "outputs": [
    {
     "name": "stdout",
     "output_type": "stream",
     "text": [
      "      Name  Age  Dep  Roll  Hello\n",
      "1    Tarun   20  MIS    22      1\n",
      "2     Mahi   21  MIS    32      2\n",
      "3   Likhil   20  MIA    43      3\n",
      "4   Guptha   19  MIS    23      4\n",
      "5    Rohit   18  MIA    13     33\n",
      "6  Karthik   22  BEC    43     45\n"
     ]
    }
   ],
   "source": [
    "print(data1)"
   ]
  },
  {
   "cell_type": "code",
   "execution_count": 28,
   "id": "d2137780",
   "metadata": {},
   "outputs": [
    {
     "name": "stdout",
     "output_type": "stream",
     "text": [
      "Empty DataFrame\n",
      "Columns: [Name, Age, Dep, Roll, Hello]\n",
      "Index: []\n"
     ]
    }
   ],
   "source": [
    "# print(data1.loc[(data1[\"Name\"] == \"Arun\" and data1[\"Age\"] == 20)])\n",
    "print(data1.query('Name == \"Arun\" and Age == 20'))"
   ]
  },
  {
   "cell_type": "code",
   "execution_count": 29,
   "id": "35a0953a",
   "metadata": {},
   "outputs": [
    {
     "name": "stdout",
     "output_type": "stream",
     "text": [
      "     Name  Age  Dep  Roll  Hello\n",
      "4  Guptha   19  MIS    23      4\n",
      "5   Rohit   18  MIA    13     33\n"
     ]
    }
   ],
   "source": [
    "print(data1.loc[(data1[\"Age\"] < 20)])"
   ]
  },
  {
   "cell_type": "code",
   "execution_count": 30,
   "id": "3df8ec23",
   "metadata": {},
   "outputs": [],
   "source": [
    "data1.loc[:,\"new one\"] = [1,2,3,4,5,5]"
   ]
  },
  {
   "cell_type": "code",
   "execution_count": 31,
   "id": "7a83effb",
   "metadata": {},
   "outputs": [],
   "source": [
    "data1.drop(\"new one\",axis=1,inplace=True)"
   ]
  },
  {
   "cell_type": "code",
   "execution_count": 32,
   "id": "6b3fe025",
   "metadata": {},
   "outputs": [
    {
     "name": "stdout",
     "output_type": "stream",
     "text": [
      "      Name  Age  Dep  Roll  Hello\n",
      "1    Tarun   20  MIS    22      1\n",
      "2     Mahi   21  MIS    32      2\n",
      "3   Likhil   20  MIA    43      3\n",
      "4   Guptha   19  MIS    23      4\n",
      "5    Rohit   18  MIA    13     33\n",
      "6  Karthik   22  BEC    43     45\n"
     ]
    }
   ],
   "source": [
    "print(data1)"
   ]
  },
  {
   "cell_type": "code",
   "execution_count": null,
   "id": "d25ff60b",
   "metadata": {},
   "outputs": [],
   "source": []
  },
  {
   "cell_type": "code",
   "execution_count": 40,
   "id": "3d5cc582",
   "metadata": {},
   "outputs": [
    {
     "name": "stdout",
     "output_type": "stream",
     "text": [
      "      Name  Age  Dep  Roll  Hello\n",
      "1    Tarun   20  MIS    22      1\n",
      "2     Mahi   21  MIS    32      2\n",
      "3   Likhil   20  MIA    43      3\n",
      "4   Guptha   19  MIS    23      4\n",
      "5    Rohit   18  MIA    13     33\n",
      "6  Karthik   22  BEC    43     45\n"
     ]
    }
   ],
   "source": [
    "print(data1)"
   ]
  },
  {
   "cell_type": "code",
   "execution_count": 38,
   "id": "c25699c4",
   "metadata": {},
   "outputs": [],
   "source": [
    "data1.loc[:,\"Name\"] = a[\"Name\"]"
   ]
  },
  {
   "cell_type": "code",
   "execution_count": 39,
   "id": "c130ef2f",
   "metadata": {},
   "outputs": [
    {
     "name": "stdout",
     "output_type": "stream",
     "text": [
      "      Name  Age  Dep  Roll  Hello\n",
      "1    Tarun   20  MIS    22      1\n",
      "2     Mahi   21  MIS    32      2\n",
      "3   Likhil   20  MIA    43      3\n",
      "4   Guptha   19  MIS    23      4\n",
      "5    Rohit   18  MIA    13     33\n",
      "6  Karthik   22  BEC    43     45\n"
     ]
    }
   ],
   "source": [
    "print(data1)"
   ]
  },
  {
   "cell_type": "code",
   "execution_count": 41,
   "id": "442e7f4c",
   "metadata": {},
   "outputs": [],
   "source": [
    "data = pd.read_csv(\"heart-disease.csv\")"
   ]
  },
  {
   "cell_type": "code",
   "execution_count": 43,
   "id": "8da1f59b",
   "metadata": {},
   "outputs": [
    {
     "data": {
      "text/html": [
       "<div>\n",
       "<style scoped>\n",
       "    .dataframe tbody tr th:only-of-type {\n",
       "        vertical-align: middle;\n",
       "    }\n",
       "\n",
       "    .dataframe tbody tr th {\n",
       "        vertical-align: top;\n",
       "    }\n",
       "\n",
       "    .dataframe thead th {\n",
       "        text-align: right;\n",
       "    }\n",
       "</style>\n",
       "<table border=\"1\" class=\"dataframe\">\n",
       "  <thead>\n",
       "    <tr style=\"text-align: right;\">\n",
       "      <th></th>\n",
       "      <th>age</th>\n",
       "      <th>sex</th>\n",
       "      <th>cp</th>\n",
       "      <th>trestbps</th>\n",
       "      <th>chol</th>\n",
       "      <th>fbs</th>\n",
       "      <th>restecg</th>\n",
       "      <th>thalach</th>\n",
       "      <th>exang</th>\n",
       "      <th>oldpeak</th>\n",
       "      <th>slope</th>\n",
       "      <th>ca</th>\n",
       "      <th>thal</th>\n",
       "      <th>target</th>\n",
       "    </tr>\n",
       "  </thead>\n",
       "  <tbody>\n",
       "    <tr>\n",
       "      <th>0</th>\n",
       "      <td>63</td>\n",
       "      <td>1</td>\n",
       "      <td>3</td>\n",
       "      <td>145</td>\n",
       "      <td>233</td>\n",
       "      <td>1</td>\n",
       "      <td>0</td>\n",
       "      <td>150</td>\n",
       "      <td>0</td>\n",
       "      <td>2.3</td>\n",
       "      <td>0</td>\n",
       "      <td>0</td>\n",
       "      <td>1</td>\n",
       "      <td>1</td>\n",
       "    </tr>\n",
       "    <tr>\n",
       "      <th>1</th>\n",
       "      <td>37</td>\n",
       "      <td>1</td>\n",
       "      <td>2</td>\n",
       "      <td>130</td>\n",
       "      <td>250</td>\n",
       "      <td>0</td>\n",
       "      <td>1</td>\n",
       "      <td>187</td>\n",
       "      <td>0</td>\n",
       "      <td>3.5</td>\n",
       "      <td>0</td>\n",
       "      <td>0</td>\n",
       "      <td>2</td>\n",
       "      <td>1</td>\n",
       "    </tr>\n",
       "    <tr>\n",
       "      <th>2</th>\n",
       "      <td>41</td>\n",
       "      <td>0</td>\n",
       "      <td>1</td>\n",
       "      <td>130</td>\n",
       "      <td>204</td>\n",
       "      <td>0</td>\n",
       "      <td>0</td>\n",
       "      <td>172</td>\n",
       "      <td>0</td>\n",
       "      <td>1.4</td>\n",
       "      <td>2</td>\n",
       "      <td>0</td>\n",
       "      <td>2</td>\n",
       "      <td>1</td>\n",
       "    </tr>\n",
       "    <tr>\n",
       "      <th>3</th>\n",
       "      <td>56</td>\n",
       "      <td>1</td>\n",
       "      <td>1</td>\n",
       "      <td>120</td>\n",
       "      <td>236</td>\n",
       "      <td>0</td>\n",
       "      <td>1</td>\n",
       "      <td>178</td>\n",
       "      <td>0</td>\n",
       "      <td>0.8</td>\n",
       "      <td>2</td>\n",
       "      <td>0</td>\n",
       "      <td>2</td>\n",
       "      <td>1</td>\n",
       "    </tr>\n",
       "    <tr>\n",
       "      <th>4</th>\n",
       "      <td>57</td>\n",
       "      <td>0</td>\n",
       "      <td>0</td>\n",
       "      <td>120</td>\n",
       "      <td>354</td>\n",
       "      <td>0</td>\n",
       "      <td>1</td>\n",
       "      <td>163</td>\n",
       "      <td>1</td>\n",
       "      <td>0.6</td>\n",
       "      <td>2</td>\n",
       "      <td>0</td>\n",
       "      <td>2</td>\n",
       "      <td>1</td>\n",
       "    </tr>\n",
       "    <tr>\n",
       "      <th>...</th>\n",
       "      <td>...</td>\n",
       "      <td>...</td>\n",
       "      <td>...</td>\n",
       "      <td>...</td>\n",
       "      <td>...</td>\n",
       "      <td>...</td>\n",
       "      <td>...</td>\n",
       "      <td>...</td>\n",
       "      <td>...</td>\n",
       "      <td>...</td>\n",
       "      <td>...</td>\n",
       "      <td>...</td>\n",
       "      <td>...</td>\n",
       "      <td>...</td>\n",
       "    </tr>\n",
       "    <tr>\n",
       "      <th>298</th>\n",
       "      <td>57</td>\n",
       "      <td>0</td>\n",
       "      <td>0</td>\n",
       "      <td>140</td>\n",
       "      <td>241</td>\n",
       "      <td>0</td>\n",
       "      <td>1</td>\n",
       "      <td>123</td>\n",
       "      <td>1</td>\n",
       "      <td>0.2</td>\n",
       "      <td>1</td>\n",
       "      <td>0</td>\n",
       "      <td>3</td>\n",
       "      <td>0</td>\n",
       "    </tr>\n",
       "    <tr>\n",
       "      <th>299</th>\n",
       "      <td>45</td>\n",
       "      <td>1</td>\n",
       "      <td>3</td>\n",
       "      <td>110</td>\n",
       "      <td>264</td>\n",
       "      <td>0</td>\n",
       "      <td>1</td>\n",
       "      <td>132</td>\n",
       "      <td>0</td>\n",
       "      <td>1.2</td>\n",
       "      <td>1</td>\n",
       "      <td>0</td>\n",
       "      <td>3</td>\n",
       "      <td>0</td>\n",
       "    </tr>\n",
       "    <tr>\n",
       "      <th>300</th>\n",
       "      <td>68</td>\n",
       "      <td>1</td>\n",
       "      <td>0</td>\n",
       "      <td>144</td>\n",
       "      <td>193</td>\n",
       "      <td>1</td>\n",
       "      <td>1</td>\n",
       "      <td>141</td>\n",
       "      <td>0</td>\n",
       "      <td>3.4</td>\n",
       "      <td>1</td>\n",
       "      <td>2</td>\n",
       "      <td>3</td>\n",
       "      <td>0</td>\n",
       "    </tr>\n",
       "    <tr>\n",
       "      <th>301</th>\n",
       "      <td>57</td>\n",
       "      <td>1</td>\n",
       "      <td>0</td>\n",
       "      <td>130</td>\n",
       "      <td>131</td>\n",
       "      <td>0</td>\n",
       "      <td>1</td>\n",
       "      <td>115</td>\n",
       "      <td>1</td>\n",
       "      <td>1.2</td>\n",
       "      <td>1</td>\n",
       "      <td>1</td>\n",
       "      <td>3</td>\n",
       "      <td>0</td>\n",
       "    </tr>\n",
       "    <tr>\n",
       "      <th>302</th>\n",
       "      <td>57</td>\n",
       "      <td>0</td>\n",
       "      <td>1</td>\n",
       "      <td>130</td>\n",
       "      <td>236</td>\n",
       "      <td>0</td>\n",
       "      <td>0</td>\n",
       "      <td>174</td>\n",
       "      <td>0</td>\n",
       "      <td>0.0</td>\n",
       "      <td>1</td>\n",
       "      <td>1</td>\n",
       "      <td>2</td>\n",
       "      <td>0</td>\n",
       "    </tr>\n",
       "  </tbody>\n",
       "</table>\n",
       "<p>303 rows × 14 columns</p>\n",
       "</div>"
      ],
      "text/plain": [
       "     age  sex  cp  trestbps  chol  fbs  restecg  thalach  exang  oldpeak  \\\n",
       "0     63    1   3       145   233    1        0      150      0      2.3   \n",
       "1     37    1   2       130   250    0        1      187      0      3.5   \n",
       "2     41    0   1       130   204    0        0      172      0      1.4   \n",
       "3     56    1   1       120   236    0        1      178      0      0.8   \n",
       "4     57    0   0       120   354    0        1      163      1      0.6   \n",
       "..   ...  ...  ..       ...   ...  ...      ...      ...    ...      ...   \n",
       "298   57    0   0       140   241    0        1      123      1      0.2   \n",
       "299   45    1   3       110   264    0        1      132      0      1.2   \n",
       "300   68    1   0       144   193    1        1      141      0      3.4   \n",
       "301   57    1   0       130   131    0        1      115      1      1.2   \n",
       "302   57    0   1       130   236    0        0      174      0      0.0   \n",
       "\n",
       "     slope  ca  thal  target  \n",
       "0        0   0     1       1  \n",
       "1        0   0     2       1  \n",
       "2        2   0     2       1  \n",
       "3        2   0     2       1  \n",
       "4        2   0     2       1  \n",
       "..     ...  ..   ...     ...  \n",
       "298      1   0     3       0  \n",
       "299      1   0     3       0  \n",
       "300      1   2     3       0  \n",
       "301      1   1     3       0  \n",
       "302      1   1     2       0  \n",
       "\n",
       "[303 rows x 14 columns]"
      ]
     },
     "execution_count": 43,
     "metadata": {},
     "output_type": "execute_result"
    }
   ],
   "source": [
    "data"
   ]
  },
  {
   "cell_type": "code",
   "execution_count": 50,
   "id": "657ac7f1",
   "metadata": {},
   "outputs": [
    {
     "data": {
      "text/plain": [
       "0.6831683168316832"
      ]
     },
     "execution_count": 50,
     "metadata": {},
     "output_type": "execute_result"
    }
   ],
   "source": [
    "data.loc[:,\"sex\"].mean(numeric_only = True)"
   ]
  },
  {
   "cell_type": "code",
   "execution_count": 51,
   "id": "8886032c",
   "metadata": {},
   "outputs": [
    {
     "data": {
      "text/plain": [
       "age          54.366337\n",
       "sex           0.683168\n",
       "cp            0.966997\n",
       "trestbps    131.623762\n",
       "chol        246.264026\n",
       "fbs           0.148515\n",
       "restecg       0.528053\n",
       "thalach     149.646865\n",
       "exang         0.326733\n",
       "oldpeak       1.039604\n",
       "slope         1.399340\n",
       "ca            0.729373\n",
       "thal          2.313531\n",
       "target        0.544554\n",
       "dtype: float64"
      ]
     },
     "execution_count": 51,
     "metadata": {},
     "output_type": "execute_result"
    }
   ],
   "source": [
    "data.mean(numeric_only = True)"
   ]
  },
  {
   "cell_type": "code",
   "execution_count": 54,
   "id": "92a83d88",
   "metadata": {},
   "outputs": [
    {
     "data": {
      "text/plain": [
       "age         16473.0\n",
       "sex           207.0\n",
       "cp            293.0\n",
       "trestbps    39882.0\n",
       "chol        74618.0\n",
       "fbs            45.0\n",
       "restecg       160.0\n",
       "thalach     45343.0\n",
       "exang          99.0\n",
       "oldpeak       315.0\n",
       "slope         424.0\n",
       "ca            221.0\n",
       "thal          701.0\n",
       "target        165.0\n",
       "dtype: float64"
      ]
     },
     "execution_count": 54,
     "metadata": {},
     "output_type": "execute_result"
    }
   ],
   "source": [
    "data.sum()"
   ]
  },
  {
   "cell_type": "code",
   "execution_count": 55,
   "id": "68ed1dd6",
   "metadata": {},
   "outputs": [
    {
     "name": "stdout",
     "output_type": "stream",
     "text": [
      "      Name  Age  Dep  Roll  Hello\n",
      "1    Tarun   20  MIS    22      1\n",
      "2     Mahi   21  MIS    32      2\n",
      "3   Likhil   20  MIA    43      3\n",
      "4   Guptha   19  MIS    23      4\n",
      "5    Rohit   18  MIA    13     33\n",
      "6  Karthik   22  BEC    43     45\n"
     ]
    }
   ],
   "source": [
    "print(data1)"
   ]
  },
  {
   "cell_type": "code",
   "execution_count": 62,
   "id": "22c68d84",
   "metadata": {},
   "outputs": [
    {
     "name": "stdout",
     "output_type": "stream",
     "text": [
      "     age  sex  cp  trestbps  chol  fbs  restecg  thalach  exang  oldpeak  \\\n",
      "0     63    1   3       145   233    1        0      150      0      2.3   \n",
      "1     37    1   2       130   250    0        1      187      0      3.5   \n",
      "2     41    0   1       130   204    0        0      172      0      1.4   \n",
      "3     56    1   1       120   236    0        1      178      0      0.8   \n",
      "4     57    0   0       120   354    0        1      163      1      0.6   \n",
      "..   ...  ...  ..       ...   ...  ...      ...      ...    ...      ...   \n",
      "298   57    0   0       140   241    0        1      123      1      0.2   \n",
      "299   45    1   3       110   264    0        1      132      0      1.2   \n",
      "300   68    1   0       144   193    1        1      141      0      3.4   \n",
      "301   57    1   0       130   131    0        1      115      1      1.2   \n",
      "302   57    0   1       130   236    0        0      174      0      0.0   \n",
      "\n",
      "     slope  ca  thal  target  \n",
      "0        0   0     1       1  \n",
      "1        0   0     2       1  \n",
      "2        2   0     2       1  \n",
      "3        2   0     2       1  \n",
      "4        2   0     2       1  \n",
      "..     ...  ..   ...     ...  \n",
      "298      1   0     3       0  \n",
      "299      1   0     3       0  \n",
      "300      1   2     3       0  \n",
      "301      1   1     3       0  \n",
      "302      1   1     2       0  \n",
      "\n",
      "[303 rows x 14 columns]\n"
     ]
    }
   ],
   "source": [
    "print(data)"
   ]
  },
  {
   "cell_type": "code",
   "execution_count": 70,
   "id": "f8ce1fbc",
   "metadata": {},
   "outputs": [
    {
     "name": "stdout",
     "output_type": "stream",
     "text": [
      "     age  sex  cp  trestbps  chol  fbs  restecg  thalach  exang  oldpeak  \\\n",
      "302   57    0   1       130   236    0        0      174      0      0.0   \n",
      "301   57    1   0       130   131    0        1      115      1      1.2   \n",
      "300   68    1   0       144   193    1        1      141      0      3.4   \n",
      "299   45    1   3       110   264    0        1      132      0      1.2   \n",
      "298   57    0   0       140   241    0        1      123      1      0.2   \n",
      "..   ...  ...  ..       ...   ...  ...      ...      ...    ...      ...   \n",
      "4     57    0   0       120   354    0        1      163      1      0.6   \n",
      "3     56    1   1       120   236    0        1      178      0      0.8   \n",
      "2     41    0   1       130   204    0        0      172      0      1.4   \n",
      "1     37    1   2       130   250    0        1      187      0      3.5   \n",
      "0     63    1   3       145   233    1        0      150      0      2.3   \n",
      "\n",
      "     slope  ca  thal  target  \n",
      "302      1   1     2       0  \n",
      "301      1   1     3       0  \n",
      "300      1   2     3       0  \n",
      "299      1   0     3       0  \n",
      "298      1   0     3       0  \n",
      "..     ...  ..   ...     ...  \n",
      "4        2   0     2       1  \n",
      "3        2   0     2       1  \n",
      "2        2   0     2       1  \n",
      "1        0   0     2       1  \n",
      "0        0   0     1       1  \n",
      "\n",
      "[303 rows x 14 columns]\n"
     ]
    }
   ],
   "source": [
    "print(data.loc[::-1])"
   ]
  },
  {
   "cell_type": "code",
   "execution_count": 71,
   "id": "4cd41185",
   "metadata": {},
   "outputs": [
    {
     "name": "stdout",
     "output_type": "stream",
     "text": [
      "       Name  Age  Dep  Roll  Hello\n",
      "11    Tarun   20  MIS    22      1\n",
      "22     Mahi   21  MIS    32      2\n",
      "33   Likhil   20  MIA    43      3\n",
      "44   Guptha   19  MIS    23      4\n",
      "55    Rohit   18  MIA    13     33\n",
      "66  Karthik   22  BEC    43     45\n"
     ]
    }
   ],
   "source": [
    "print(data1)"
   ]
  },
  {
   "cell_type": "code",
   "execution_count": 78,
   "id": "9d5e7c97",
   "metadata": {},
   "outputs": [],
   "source": [
    "data1.rename(columns = {'Name':'Names'},inplace = True)"
   ]
  },
  {
   "cell_type": "code",
   "execution_count": 79,
   "id": "105a7c6b",
   "metadata": {},
   "outputs": [
    {
     "name": "stdout",
     "output_type": "stream",
     "text": [
      "      Names  Age  Dep  Roll  Hello\n",
      "11    Tarun   20  MIS    22      1\n",
      "22     Mahi   21  MIS    32      2\n",
      "33   Likhil   20  MIA    43      3\n",
      "44   Guptha   19  MIS    23      4\n",
      "55    Rohit   18  MIA    13     33\n",
      "66  Karthik   22  BEC    43     45\n"
     ]
    }
   ],
   "source": [
    "print(data1)"
   ]
  },
  {
   "cell_type": "code",
   "execution_count": 140,
   "id": "e574a4e3",
   "metadata": {},
   "outputs": [],
   "source": [
    "series = pd.Series([1,92,34,4,55])\n",
    "data1[\"hello\"] = series"
   ]
  },
  {
   "cell_type": "code",
   "execution_count": 141,
   "id": "6eb7eaaa",
   "metadata": {},
   "outputs": [
    {
     "name": "stdout",
     "output_type": "stream",
     "text": [
      "         Names   Age  Dep  Roll  Hello  hello\n",
      "11       Tarun  20.0  MIS  22.0    1.0    NaN\n",
      "22        Mahi  21.0  MIS  32.0    2.0    NaN\n",
      "33      Likhil  20.0  MIA  43.0    3.0    NaN\n",
      "44      Guptha  19.0  MIS  23.0    4.0    NaN\n",
      "55       Rohit  18.0  MIA  13.0   33.0    NaN\n",
      "66     Karthik  22.0  BEC  43.0   45.0    NaN\n",
      "hello        1  92.0   34   4.0   55.0    NaN\n"
     ]
    }
   ],
   "source": [
    "print(data1)"
   ]
  },
  {
   "cell_type": "code",
   "execution_count": 144,
   "id": "fc6c7a9f",
   "metadata": {},
   "outputs": [],
   "source": [
    "data1['Names']=data1['Names'].str.upper()"
   ]
  },
  {
   "cell_type": "code",
   "execution_count": null,
   "id": "690d5984",
   "metadata": {},
   "outputs": [],
   "source": []
  },
  {
   "cell_type": "code",
   "execution_count": 145,
   "id": "19f82972",
   "metadata": {},
   "outputs": [
    {
     "name": "stdout",
     "output_type": "stream",
     "text": [
      "         Names   Age  Dep  Roll  Hello  hello\n",
      "11       TARUN  20.0  MIS  22.0    1.0    NaN\n",
      "22        MAHI  21.0  MIS  32.0    2.0    NaN\n",
      "33      LIKHIL  20.0  MIA  43.0    3.0    NaN\n",
      "44      GUPTHA  19.0  MIS  23.0    4.0    NaN\n",
      "55       ROHIT  18.0  MIA  13.0   33.0    NaN\n",
      "66     KARTHIK  22.0  BEC  43.0   45.0    NaN\n",
      "hello      NaN  92.0   34   4.0   55.0    NaN\n"
     ]
    }
   ],
   "source": [
    "print(data1)"
   ]
  },
  {
   "cell_type": "code",
   "execution_count": 120,
   "id": "ba3eecea",
   "metadata": {},
   "outputs": [],
   "source": [
    "data1.to_csv(\"Sample_data.csv\")"
   ]
  },
  {
   "cell_type": "code",
   "execution_count": 132,
   "id": "715fbde7",
   "metadata": {},
   "outputs": [],
   "source": [
    "data4 = pd.read_csv('Sample_data.csv')"
   ]
  },
  {
   "cell_type": "code",
   "execution_count": 133,
   "id": "d3bbbf00",
   "metadata": {},
   "outputs": [
    {
     "data": {
      "text/html": [
       "<div>\n",
       "<style scoped>\n",
       "    .dataframe tbody tr th:only-of-type {\n",
       "        vertical-align: middle;\n",
       "    }\n",
       "\n",
       "    .dataframe tbody tr th {\n",
       "        vertical-align: top;\n",
       "    }\n",
       "\n",
       "    .dataframe thead th {\n",
       "        text-align: right;\n",
       "    }\n",
       "</style>\n",
       "<table border=\"1\" class=\"dataframe\">\n",
       "  <thead>\n",
       "    <tr style=\"text-align: right;\">\n",
       "      <th></th>\n",
       "      <th>Unnamed: 0</th>\n",
       "      <th>Names</th>\n",
       "      <th>Age</th>\n",
       "      <th>Dep</th>\n",
       "      <th>Roll</th>\n",
       "      <th>Hello</th>\n",
       "      <th>hello</th>\n",
       "    </tr>\n",
       "  </thead>\n",
       "  <tbody>\n",
       "    <tr>\n",
       "      <th>0</th>\n",
       "      <td>11</td>\n",
       "      <td>Tarun</td>\n",
       "      <td>20</td>\n",
       "      <td>MIS</td>\n",
       "      <td>22</td>\n",
       "      <td>1.0</td>\n",
       "      <td>1</td>\n",
       "    </tr>\n",
       "    <tr>\n",
       "      <th>1</th>\n",
       "      <td>22</td>\n",
       "      <td>Mahi</td>\n",
       "      <td>21</td>\n",
       "      <td>MIS</td>\n",
       "      <td>32</td>\n",
       "      <td>2.0</td>\n",
       "      <td>92</td>\n",
       "    </tr>\n",
       "    <tr>\n",
       "      <th>2</th>\n",
       "      <td>33</td>\n",
       "      <td>Likhil</td>\n",
       "      <td>0</td>\n",
       "      <td>MIA</td>\n",
       "      <td>43</td>\n",
       "      <td>NaN</td>\n",
       "      <td>34</td>\n",
       "    </tr>\n",
       "    <tr>\n",
       "      <th>3</th>\n",
       "      <td>44</td>\n",
       "      <td>Guptha</td>\n",
       "      <td>19</td>\n",
       "      <td>MIS</td>\n",
       "      <td>23</td>\n",
       "      <td>NaN</td>\n",
       "      <td>4</td>\n",
       "    </tr>\n",
       "    <tr>\n",
       "      <th>4</th>\n",
       "      <td>55</td>\n",
       "      <td>NaN</td>\n",
       "      <td>18</td>\n",
       "      <td>NaN</td>\n",
       "      <td>3</td>\n",
       "      <td>NaN</td>\n",
       "      <td>5</td>\n",
       "    </tr>\n",
       "    <tr>\n",
       "      <th>5</th>\n",
       "      <td>66</td>\n",
       "      <td>Karthik</td>\n",
       "      <td>22</td>\n",
       "      <td>BEC</td>\n",
       "      <td>43</td>\n",
       "      <td>NaN</td>\n",
       "      <td>5</td>\n",
       "    </tr>\n",
       "    <tr>\n",
       "      <th>6</th>\n",
       "      <td>hello</td>\n",
       "      <td>1</td>\n",
       "      <td>92</td>\n",
       "      <td>34</td>\n",
       "      <td>4</td>\n",
       "      <td>55.0</td>\n",
       "      <td>55</td>\n",
       "    </tr>\n",
       "  </tbody>\n",
       "</table>\n",
       "</div>"
      ],
      "text/plain": [
       "  Unnamed: 0    Names  Age  Dep  Roll  Hello  hello\n",
       "0         11    Tarun   20  MIS    22    1.0      1\n",
       "1         22     Mahi   21  MIS    32    2.0     92\n",
       "2         33   Likhil    0  MIA    43    NaN     34\n",
       "3         44   Guptha   19  MIS    23    NaN      4\n",
       "4         55      NaN   18  NaN     3    NaN      5\n",
       "5         66  Karthik   22  BEC    43    NaN      5\n",
       "6      hello        1   92   34     4   55.0     55"
      ]
     },
     "execution_count": 133,
     "metadata": {},
     "output_type": "execute_result"
    }
   ],
   "source": [
    "data4"
   ]
  },
  {
   "cell_type": "code",
   "execution_count": 134,
   "id": "79a19424",
   "metadata": {},
   "outputs": [],
   "source": [
    "data4['Hello'].fillna(0.0,inplace = True)"
   ]
  },
  {
   "cell_type": "code",
   "execution_count": 135,
   "id": "a9efeda2",
   "metadata": {},
   "outputs": [
    {
     "data": {
      "text/html": [
       "<div>\n",
       "<style scoped>\n",
       "    .dataframe tbody tr th:only-of-type {\n",
       "        vertical-align: middle;\n",
       "    }\n",
       "\n",
       "    .dataframe tbody tr th {\n",
       "        vertical-align: top;\n",
       "    }\n",
       "\n",
       "    .dataframe thead th {\n",
       "        text-align: right;\n",
       "    }\n",
       "</style>\n",
       "<table border=\"1\" class=\"dataframe\">\n",
       "  <thead>\n",
       "    <tr style=\"text-align: right;\">\n",
       "      <th></th>\n",
       "      <th>Unnamed: 0</th>\n",
       "      <th>Names</th>\n",
       "      <th>Age</th>\n",
       "      <th>Dep</th>\n",
       "      <th>Roll</th>\n",
       "      <th>Hello</th>\n",
       "      <th>hello</th>\n",
       "    </tr>\n",
       "  </thead>\n",
       "  <tbody>\n",
       "    <tr>\n",
       "      <th>0</th>\n",
       "      <td>11</td>\n",
       "      <td>Tarun</td>\n",
       "      <td>20</td>\n",
       "      <td>MIS</td>\n",
       "      <td>22</td>\n",
       "      <td>1.0</td>\n",
       "      <td>1</td>\n",
       "    </tr>\n",
       "    <tr>\n",
       "      <th>1</th>\n",
       "      <td>22</td>\n",
       "      <td>Mahi</td>\n",
       "      <td>21</td>\n",
       "      <td>MIS</td>\n",
       "      <td>32</td>\n",
       "      <td>2.0</td>\n",
       "      <td>92</td>\n",
       "    </tr>\n",
       "    <tr>\n",
       "      <th>2</th>\n",
       "      <td>33</td>\n",
       "      <td>Likhil</td>\n",
       "      <td>0</td>\n",
       "      <td>MIA</td>\n",
       "      <td>43</td>\n",
       "      <td>0.0</td>\n",
       "      <td>34</td>\n",
       "    </tr>\n",
       "    <tr>\n",
       "      <th>3</th>\n",
       "      <td>44</td>\n",
       "      <td>Guptha</td>\n",
       "      <td>19</td>\n",
       "      <td>MIS</td>\n",
       "      <td>23</td>\n",
       "      <td>0.0</td>\n",
       "      <td>4</td>\n",
       "    </tr>\n",
       "    <tr>\n",
       "      <th>4</th>\n",
       "      <td>55</td>\n",
       "      <td>NaN</td>\n",
       "      <td>18</td>\n",
       "      <td>NaN</td>\n",
       "      <td>3</td>\n",
       "      <td>0.0</td>\n",
       "      <td>5</td>\n",
       "    </tr>\n",
       "    <tr>\n",
       "      <th>5</th>\n",
       "      <td>66</td>\n",
       "      <td>Karthik</td>\n",
       "      <td>22</td>\n",
       "      <td>BEC</td>\n",
       "      <td>43</td>\n",
       "      <td>0.0</td>\n",
       "      <td>5</td>\n",
       "    </tr>\n",
       "    <tr>\n",
       "      <th>6</th>\n",
       "      <td>hello</td>\n",
       "      <td>1</td>\n",
       "      <td>92</td>\n",
       "      <td>34</td>\n",
       "      <td>4</td>\n",
       "      <td>55.0</td>\n",
       "      <td>55</td>\n",
       "    </tr>\n",
       "  </tbody>\n",
       "</table>\n",
       "</div>"
      ],
      "text/plain": [
       "  Unnamed: 0    Names  Age  Dep  Roll  Hello  hello\n",
       "0         11    Tarun   20  MIS    22    1.0      1\n",
       "1         22     Mahi   21  MIS    32    2.0     92\n",
       "2         33   Likhil    0  MIA    43    0.0     34\n",
       "3         44   Guptha   19  MIS    23    0.0      4\n",
       "4         55      NaN   18  NaN     3    0.0      5\n",
       "5         66  Karthik   22  BEC    43    0.0      5\n",
       "6      hello        1   92   34     4   55.0     55"
      ]
     },
     "execution_count": 135,
     "metadata": {},
     "output_type": "execute_result"
    }
   ],
   "source": [
    "data4"
   ]
  },
  {
   "cell_type": "code",
   "execution_count": null,
   "id": "38594647",
   "metadata": {},
   "outputs": [],
   "source": []
  }
 ],
 "metadata": {
  "kernelspec": {
   "display_name": "Python 3 (ipykernel)",
   "language": "python",
   "name": "python3"
  },
  "language_info": {
   "codemirror_mode": {
    "name": "ipython",
    "version": 3
   },
   "file_extension": ".py",
   "mimetype": "text/x-python",
   "name": "python",
   "nbconvert_exporter": "python",
   "pygments_lexer": "ipython3",
   "version": "3.11.5"
  }
 },
 "nbformat": 4,
 "nbformat_minor": 5
}
